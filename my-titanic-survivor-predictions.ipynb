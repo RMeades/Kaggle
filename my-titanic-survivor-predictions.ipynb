{
 "cells": [
  {
   "cell_type": "code",
   "execution_count": 1,
   "id": "3fdda05a",
   "metadata": {
    "_cell_guid": "b1076dfc-b9ad-4769-8c92-a6c4dae69d19",
    "_uuid": "8f2839f25d086af736a60e9eeb907d3b93b6e0e5",
    "execution": {
     "iopub.execute_input": "2022-12-01T19:45:34.412381Z",
     "iopub.status.busy": "2022-12-01T19:45:34.411536Z",
     "iopub.status.idle": "2022-12-01T19:45:34.432981Z",
     "shell.execute_reply": "2022-12-01T19:45:34.430988Z"
    },
    "papermill": {
     "duration": 0.038989,
     "end_time": "2022-12-01T19:45:34.437698",
     "exception": false,
     "start_time": "2022-12-01T19:45:34.398709",
     "status": "completed"
    },
    "tags": []
   },
   "outputs": [
    {
     "name": "stdout",
     "output_type": "stream",
     "text": [
      "/kaggle/input/titanic/train.csv\n",
      "/kaggle/input/titanic/test.csv\n",
      "/kaggle/input/titanic/gender_submission.csv\n"
     ]
    }
   ],
   "source": [
    "# This Python 3 environment comes with many helpful analytics libraries installed\n",
    "# It is defined by the kaggle/python Docker image: https://github.com/kaggle/docker-python\n",
    "# For example, here's several helpful packages to load\n",
    "\n",
    "import numpy as np # linear algebra\n",
    "import pandas as pd # data processing, CSV file I/O (e.g. pd.read_csv)\n",
    "\n",
    "# Input data files are available in the read-only \"../input/\" directory\n",
    "# For example, running this (by clicking run or pressing Shift+Enter) will list all files under the input directory\n",
    "\n",
    "import os\n",
    "for dirname, _, filenames in os.walk('/kaggle/input'):\n",
    "    for filename in filenames:\n",
    "        print(os.path.join(dirname, filename))\n",
    "\n",
    "# You can write up to 20GB to the current directory (/kaggle/working/) that gets preserved as output when you create a version using \"Save & Run All\" \n",
    "# You can also write temporary files to /kaggle/temp/, but they won't be saved outside of the current session"
   ]
  },
  {
   "cell_type": "code",
   "execution_count": 2,
   "id": "6b2487bb",
   "metadata": {
    "execution": {
     "iopub.execute_input": "2022-12-01T19:45:34.457808Z",
     "iopub.status.busy": "2022-12-01T19:45:34.457273Z",
     "iopub.status.idle": "2022-12-01T19:45:37.258577Z",
     "shell.execute_reply": "2022-12-01T19:45:37.256992Z"
    },
    "papermill": {
     "duration": 2.814688,
     "end_time": "2022-12-01T19:45:37.261613",
     "exception": false,
     "start_time": "2022-12-01T19:45:34.446925",
     "status": "completed"
    },
    "tags": []
   },
   "outputs": [
    {
     "data": {
      "text/html": [
       "<style type='text/css'>\n",
       ".datatable table.frame { margin-bottom: 0; }\n",
       ".datatable table.frame thead { border-bottom: none; }\n",
       ".datatable table.frame tr.coltypes td {  color: #FFFFFF;  line-height: 6px;  padding: 0 0.5em;}\n",
       ".datatable .bool    { background: #DDDD99; }\n",
       ".datatable .object  { background: #565656; }\n",
       ".datatable .int     { background: #5D9E5D; }\n",
       ".datatable .float   { background: #4040CC; }\n",
       ".datatable .str     { background: #CC4040; }\n",
       ".datatable .time    { background: #40CC40; }\n",
       ".datatable .row_index {  background: var(--jp-border-color3);  border-right: 1px solid var(--jp-border-color0);  color: var(--jp-ui-font-color3);  font-size: 9px;}\n",
       ".datatable .frame tbody td { text-align: left; }\n",
       ".datatable .frame tr.coltypes .row_index {  background: var(--jp-border-color0);}\n",
       ".datatable th:nth-child(2) { padding-left: 12px; }\n",
       ".datatable .hellipsis {  color: var(--jp-cell-editor-border-color);}\n",
       ".datatable .vellipsis {  background: var(--jp-layout-color0);  color: var(--jp-cell-editor-border-color);}\n",
       ".datatable .na {  color: var(--jp-cell-editor-border-color);  font-size: 80%;}\n",
       ".datatable .sp {  opacity: 0.25;}\n",
       ".datatable .footer { font-size: 9px; }\n",
       ".datatable .frame_dimensions {  background: var(--jp-border-color3);  border-top: 1px solid var(--jp-border-color0);  color: var(--jp-ui-font-color3);  display: inline-block;  opacity: 0.6;  padding: 1px 10px 1px 5px;}\n",
       ".datatable .frame thead tr.colnames {  background-image: url('data:image/png;base64,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');  background-repeat: repeat-x;  background-size: 14px;  height: 28px;}\n",
       "</style>\n"
      ],
      "text/plain": [
       "<IPython.core.display.HTML object>"
      ]
     },
     "metadata": {},
     "output_type": "display_data"
    }
   ],
   "source": [
    "from sklearn.model_selection import train_test_split\n",
    "from sklearn.preprocessing import RobustScaler\n",
    "from mlxtend.feature_selection import ExhaustiveFeatureSelector\n",
    "from sklearn.model_selection import cross_val_score\n",
    "from sklearn.model_selection import GridSearchCV\n",
    "from sklearn.tree import DecisionTreeClassifier, plot_tree\n",
    "from sklearn.ensemble import RandomForestClassifier\n",
    "from sklearn.neighbors import KNeighborsClassifier\n",
    "from sklearn.linear_model import LogisticRegression\n",
    "from sklearn.ensemble import GradientBoostingClassifier\n",
    "from lightgbm import LGBMClassifier\n",
    "from xgboost import XGBClassifier\n",
    "from sklearn.metrics import ConfusionMatrixDisplay\n",
    "from sklearn.metrics import RocCurveDisplay\n",
    "from sklearn.metrics import confusion_matrix\n",
    "from sklearn.metrics import classification_report"
   ]
  },
  {
   "cell_type": "markdown",
   "id": "39552a08",
   "metadata": {
    "papermill": {
     "duration": 0.008313,
     "end_time": "2022-12-01T19:45:37.279049",
     "exception": false,
     "start_time": "2022-12-01T19:45:37.270736",
     "status": "completed"
    },
    "tags": []
   },
   "source": [
    "# ****DATA PREPROCESSING****"
   ]
  },
  {
   "cell_type": "markdown",
   "id": "74e61e21",
   "metadata": {
    "papermill": {
     "duration": 0.008069,
     "end_time": "2022-12-01T19:45:37.295758",
     "exception": false,
     "start_time": "2022-12-01T19:45:37.287689",
     "status": "completed"
    },
    "tags": []
   },
   "source": [
    "Let's read in the training dataset into a dataframe using pandas and take a look at a summary of what it consists of"
   ]
  },
  {
   "cell_type": "code",
   "execution_count": 3,
   "id": "5f758ba1",
   "metadata": {
    "execution": {
     "iopub.execute_input": "2022-12-01T19:45:37.315700Z",
     "iopub.status.busy": "2022-12-01T19:45:37.314419Z",
     "iopub.status.idle": "2022-12-01T19:45:37.364966Z",
     "shell.execute_reply": "2022-12-01T19:45:37.363677Z"
    },
    "papermill": {
     "duration": 0.06429,
     "end_time": "2022-12-01T19:45:37.368543",
     "exception": false,
     "start_time": "2022-12-01T19:45:37.304253",
     "status": "completed"
    },
    "tags": []
   },
   "outputs": [
    {
     "name": "stdout",
     "output_type": "stream",
     "text": [
      "<class 'pandas.core.frame.DataFrame'>\n",
      "RangeIndex: 891 entries, 0 to 890\n",
      "Data columns (total 12 columns):\n",
      " #   Column       Non-Null Count  Dtype  \n",
      "---  ------       --------------  -----  \n",
      " 0   PassengerId  891 non-null    int64  \n",
      " 1   Survived     891 non-null    int64  \n",
      " 2   Pclass       891 non-null    int64  \n",
      " 3   Name         891 non-null    object \n",
      " 4   Sex          891 non-null    object \n",
      " 5   Age          714 non-null    float64\n",
      " 6   SibSp        891 non-null    int64  \n",
      " 7   Parch        891 non-null    int64  \n",
      " 8   Ticket       891 non-null    object \n",
      " 9   Fare         891 non-null    float64\n",
      " 10  Cabin        204 non-null    object \n",
      " 11  Embarked     889 non-null    object \n",
      "dtypes: float64(2), int64(5), object(5)\n",
      "memory usage: 83.7+ KB\n"
     ]
    }
   ],
   "source": [
    "train_data = pd.read_csv(\"/kaggle/input/titanic/train.csv\")\n",
    "train_data.info()"
   ]
  },
  {
   "cell_type": "markdown",
   "id": "6ebb1766",
   "metadata": {
    "papermill": {
     "duration": 0.009104,
     "end_time": "2022-12-01T19:45:37.390118",
     "exception": false,
     "start_time": "2022-12-01T19:45:37.381014",
     "status": "completed"
    },
    "tags": []
   },
   "source": [
    "Now let's do the same for the test dataset"
   ]
  },
  {
   "cell_type": "code",
   "execution_count": 4,
   "id": "3f56a997",
   "metadata": {
    "execution": {
     "iopub.execute_input": "2022-12-01T19:45:37.409877Z",
     "iopub.status.busy": "2022-12-01T19:45:37.409375Z",
     "iopub.status.idle": "2022-12-01T19:45:37.431692Z",
     "shell.execute_reply": "2022-12-01T19:45:37.430277Z"
    },
    "papermill": {
     "duration": 0.036145,
     "end_time": "2022-12-01T19:45:37.435248",
     "exception": false,
     "start_time": "2022-12-01T19:45:37.399103",
     "status": "completed"
    },
    "tags": []
   },
   "outputs": [
    {
     "name": "stdout",
     "output_type": "stream",
     "text": [
      "<class 'pandas.core.frame.DataFrame'>\n",
      "RangeIndex: 418 entries, 0 to 417\n",
      "Data columns (total 11 columns):\n",
      " #   Column       Non-Null Count  Dtype  \n",
      "---  ------       --------------  -----  \n",
      " 0   PassengerId  418 non-null    int64  \n",
      " 1   Pclass       418 non-null    int64  \n",
      " 2   Name         418 non-null    object \n",
      " 3   Sex          418 non-null    object \n",
      " 4   Age          332 non-null    float64\n",
      " 5   SibSp        418 non-null    int64  \n",
      " 6   Parch        418 non-null    int64  \n",
      " 7   Ticket       418 non-null    object \n",
      " 8   Fare         417 non-null    float64\n",
      " 9   Cabin        91 non-null     object \n",
      " 10  Embarked     418 non-null    object \n",
      "dtypes: float64(2), int64(4), object(5)\n",
      "memory usage: 36.0+ KB\n"
     ]
    }
   ],
   "source": [
    "test_data = pd.read_csv(\"/kaggle/input/titanic/test.csv\")\n",
    "test_data.info()"
   ]
  },
  {
   "cell_type": "markdown",
   "id": "1433cc16",
   "metadata": {
    "papermill": {
     "duration": 0.009066,
     "end_time": "2022-12-01T19:45:37.454641",
     "exception": false,
     "start_time": "2022-12-01T19:45:37.445575",
     "status": "completed"
    },
    "tags": []
   },
   "source": [
    "We can see we have missing values in the age, fare and embarked columns so we need to clean this up first.\n",
    "\n",
    "The following is a nice function written by @SIVA HEMANG that replaces the age and fare null values with their respective medians when grouped by Pclass and sex.\n",
    "\n",
    "As there are only 2 samples in the training dataset wiht missing embarked features we can afford to omit these from the dataset."
   ]
  },
  {
   "cell_type": "code",
   "execution_count": 5,
   "id": "03cdfa37",
   "metadata": {
    "execution": {
     "iopub.execute_input": "2022-12-01T19:45:37.475727Z",
     "iopub.status.busy": "2022-12-01T19:45:37.475275Z",
     "iopub.status.idle": "2022-12-01T19:45:37.482813Z",
     "shell.execute_reply": "2022-12-01T19:45:37.481480Z"
    },
    "papermill": {
     "duration": 0.021016,
     "end_time": "2022-12-01T19:45:37.485301",
     "exception": false,
     "start_time": "2022-12-01T19:45:37.464285",
     "status": "completed"
    },
    "tags": []
   },
   "outputs": [],
   "source": [
    "def cleanData(data):\n",
    "    \n",
    "    # Data missing Case2\n",
    "    data['Age'] = data.groupby(['Pclass','Sex'])['Age'].transform(lambda x: x.fillna(x.median()))\n",
    "    \n",
    "    # FARE Data missing in test\n",
    "    data['Fare'] = data.groupby(['Pclass','Sex'])['Fare'].transform(lambda x: x.fillna(x.median()))\n",
    "\n",
    "    # Data missing Case3\n",
    "    data.dropna(axis=0, subset=['Embarked'], inplace=True)\n",
    "    \n",
    "    return data"
   ]
  },
  {
   "cell_type": "markdown",
   "id": "b1fa7d5e",
   "metadata": {
    "papermill": {
     "duration": 0.008568,
     "end_time": "2022-12-01T19:45:37.502634",
     "exception": false,
     "start_time": "2022-12-01T19:45:37.494066",
     "status": "completed"
    },
    "tags": []
   },
   "source": [
    "Create nice clean training and testing data using the above function and take a look at a summary of them both to verify all null vaules have been dealt with"
   ]
  },
  {
   "cell_type": "code",
   "execution_count": 6,
   "id": "ebc72496",
   "metadata": {
    "execution": {
     "iopub.execute_input": "2022-12-01T19:45:37.523024Z",
     "iopub.status.busy": "2022-12-01T19:45:37.522510Z",
     "iopub.status.idle": "2022-12-01T19:45:37.563857Z",
     "shell.execute_reply": "2022-12-01T19:45:37.562532Z"
    },
    "papermill": {
     "duration": 0.054938,
     "end_time": "2022-12-01T19:45:37.566702",
     "exception": false,
     "start_time": "2022-12-01T19:45:37.511764",
     "status": "completed"
    },
    "tags": []
   },
   "outputs": [],
   "source": [
    "clean_train = cleanData(train_data)\n",
    "clean_test = cleanData(test_data)"
   ]
  },
  {
   "cell_type": "code",
   "execution_count": 7,
   "id": "a36720d8",
   "metadata": {
    "execution": {
     "iopub.execute_input": "2022-12-01T19:45:37.587134Z",
     "iopub.status.busy": "2022-12-01T19:45:37.586312Z",
     "iopub.status.idle": "2022-12-01T19:45:37.602661Z",
     "shell.execute_reply": "2022-12-01T19:45:37.600750Z"
    },
    "papermill": {
     "duration": 0.029833,
     "end_time": "2022-12-01T19:45:37.605707",
     "exception": false,
     "start_time": "2022-12-01T19:45:37.575874",
     "status": "completed"
    },
    "tags": []
   },
   "outputs": [
    {
     "name": "stdout",
     "output_type": "stream",
     "text": [
      "<class 'pandas.core.frame.DataFrame'>\n",
      "Int64Index: 889 entries, 0 to 890\n",
      "Data columns (total 12 columns):\n",
      " #   Column       Non-Null Count  Dtype  \n",
      "---  ------       --------------  -----  \n",
      " 0   PassengerId  889 non-null    int64  \n",
      " 1   Survived     889 non-null    int64  \n",
      " 2   Pclass       889 non-null    int64  \n",
      " 3   Name         889 non-null    object \n",
      " 4   Sex          889 non-null    object \n",
      " 5   Age          889 non-null    float64\n",
      " 6   SibSp        889 non-null    int64  \n",
      " 7   Parch        889 non-null    int64  \n",
      " 8   Ticket       889 non-null    object \n",
      " 9   Fare         889 non-null    float64\n",
      " 10  Cabin        202 non-null    object \n",
      " 11  Embarked     889 non-null    object \n",
      "dtypes: float64(2), int64(5), object(5)\n",
      "memory usage: 90.3+ KB\n"
     ]
    }
   ],
   "source": [
    "clean_train.info()"
   ]
  },
  {
   "cell_type": "code",
   "execution_count": 8,
   "id": "b8ae9d35",
   "metadata": {
    "execution": {
     "iopub.execute_input": "2022-12-01T19:45:37.625721Z",
     "iopub.status.busy": "2022-12-01T19:45:37.625261Z",
     "iopub.status.idle": "2022-12-01T19:45:37.640372Z",
     "shell.execute_reply": "2022-12-01T19:45:37.638820Z"
    },
    "papermill": {
     "duration": 0.028995,
     "end_time": "2022-12-01T19:45:37.643691",
     "exception": false,
     "start_time": "2022-12-01T19:45:37.614696",
     "status": "completed"
    },
    "tags": []
   },
   "outputs": [
    {
     "name": "stdout",
     "output_type": "stream",
     "text": [
      "<class 'pandas.core.frame.DataFrame'>\n",
      "Int64Index: 418 entries, 0 to 417\n",
      "Data columns (total 11 columns):\n",
      " #   Column       Non-Null Count  Dtype  \n",
      "---  ------       --------------  -----  \n",
      " 0   PassengerId  418 non-null    int64  \n",
      " 1   Pclass       418 non-null    int64  \n",
      " 2   Name         418 non-null    object \n",
      " 3   Sex          418 non-null    object \n",
      " 4   Age          418 non-null    float64\n",
      " 5   SibSp        418 non-null    int64  \n",
      " 6   Parch        418 non-null    int64  \n",
      " 7   Ticket       418 non-null    object \n",
      " 8   Fare         418 non-null    float64\n",
      " 9   Cabin        91 non-null     object \n",
      " 10  Embarked     418 non-null    object \n",
      "dtypes: float64(2), int64(4), object(5)\n",
      "memory usage: 39.2+ KB\n"
     ]
    }
   ],
   "source": [
    "clean_test.info()"
   ]
  },
  {
   "cell_type": "markdown",
   "id": "bb7817da",
   "metadata": {
    "papermill": {
     "duration": 0.008674,
     "end_time": "2022-12-01T19:45:37.661995",
     "exception": false,
     "start_time": "2022-12-01T19:45:37.653321",
     "status": "completed"
    },
    "tags": []
   },
   "source": [
    "Looks good :-)\n",
    "\n",
    "Now let's choose our feature columns. I don't think passengerID, name, ticket or cabin would be predictive of survival so I am going to choose Pclass, sex, age, sibsp, parch, fare and embarked.\n",
    "\n",
    "I will seperate out the y_train (target) and x_train (features) and one hot encode the sex and embarked columns and check the summary info to verify this has all worked as expected."
   ]
  },
  {
   "cell_type": "code",
   "execution_count": 9,
   "id": "7cba7ac9",
   "metadata": {
    "execution": {
     "iopub.execute_input": "2022-12-01T19:45:37.682530Z",
     "iopub.status.busy": "2022-12-01T19:45:37.681508Z",
     "iopub.status.idle": "2022-12-01T19:45:37.708514Z",
     "shell.execute_reply": "2022-12-01T19:45:37.706554Z"
    },
    "papermill": {
     "duration": 0.041168,
     "end_time": "2022-12-01T19:45:37.712160",
     "exception": false,
     "start_time": "2022-12-01T19:45:37.670992",
     "status": "completed"
    },
    "tags": []
   },
   "outputs": [
    {
     "name": "stdout",
     "output_type": "stream",
     "text": [
      "<class 'pandas.core.frame.DataFrame'>\n",
      "Int64Index: 889 entries, 0 to 890\n",
      "Data columns (total 10 columns):\n",
      " #   Column      Non-Null Count  Dtype  \n",
      "---  ------      --------------  -----  \n",
      " 0   Pclass      889 non-null    int64  \n",
      " 1   Age         889 non-null    float64\n",
      " 2   SibSp       889 non-null    int64  \n",
      " 3   Parch       889 non-null    int64  \n",
      " 4   Fare        889 non-null    float64\n",
      " 5   Sex_female  889 non-null    uint8  \n",
      " 6   Sex_male    889 non-null    uint8  \n",
      " 7   Embarked_C  889 non-null    uint8  \n",
      " 8   Embarked_Q  889 non-null    uint8  \n",
      " 9   Embarked_S  889 non-null    uint8  \n",
      "dtypes: float64(2), int64(3), uint8(5)\n",
      "memory usage: 46.0 KB\n",
      "\n",
      " Number of samples in y = 889\n"
     ]
    }
   ],
   "source": [
    "features = [\"Pclass\", \"Sex\", \"Age\", \"SibSp\", \"Parch\", \"Fare\", \"Embarked\"]\n",
    "y_train = clean_train[\"Survived\"]\n",
    "X_train = pd.get_dummies(clean_train[features])\n",
    "X_train.info()\n",
    "print(f\"\\n Number of samples in y = {len(y_train)}\")"
   ]
  },
  {
   "cell_type": "markdown",
   "id": "b6901a18",
   "metadata": {
    "papermill": {
     "duration": 0.008839,
     "end_time": "2022-12-01T19:45:37.730341",
     "exception": false,
     "start_time": "2022-12-01T19:45:37.721502",
     "status": "completed"
    },
    "tags": []
   },
   "source": [
    "Now I'm going to create equivalent X_test data by selecting the same features and perform the same one hot encoding"
   ]
  },
  {
   "cell_type": "code",
   "execution_count": 10,
   "id": "273394d4",
   "metadata": {
    "execution": {
     "iopub.execute_input": "2022-12-01T19:45:37.752064Z",
     "iopub.status.busy": "2022-12-01T19:45:37.750585Z",
     "iopub.status.idle": "2022-12-01T19:45:37.773264Z",
     "shell.execute_reply": "2022-12-01T19:45:37.771645Z"
    },
    "papermill": {
     "duration": 0.0364,
     "end_time": "2022-12-01T19:45:37.776268",
     "exception": false,
     "start_time": "2022-12-01T19:45:37.739868",
     "status": "completed"
    },
    "tags": []
   },
   "outputs": [
    {
     "name": "stdout",
     "output_type": "stream",
     "text": [
      "<class 'pandas.core.frame.DataFrame'>\n",
      "Int64Index: 418 entries, 0 to 417\n",
      "Data columns (total 10 columns):\n",
      " #   Column      Non-Null Count  Dtype  \n",
      "---  ------      --------------  -----  \n",
      " 0   Pclass      418 non-null    int64  \n",
      " 1   Age         418 non-null    float64\n",
      " 2   SibSp       418 non-null    int64  \n",
      " 3   Parch       418 non-null    int64  \n",
      " 4   Fare        418 non-null    float64\n",
      " 5   Sex_female  418 non-null    uint8  \n",
      " 6   Sex_male    418 non-null    uint8  \n",
      " 7   Embarked_C  418 non-null    uint8  \n",
      " 8   Embarked_Q  418 non-null    uint8  \n",
      " 9   Embarked_S  418 non-null    uint8  \n",
      "dtypes: float64(2), int64(3), uint8(5)\n",
      "memory usage: 21.6 KB\n"
     ]
    }
   ],
   "source": [
    "X_test = pd.get_dummies(clean_test[features])\n",
    "X_test.info()"
   ]
  },
  {
   "cell_type": "markdown",
   "id": "7cfdd876",
   "metadata": {
    "papermill": {
     "duration": 0.00883,
     "end_time": "2022-12-01T19:45:37.794640",
     "exception": false,
     "start_time": "2022-12-01T19:45:37.785810",
     "status": "completed"
    },
    "tags": []
   },
   "source": [
    "Final bit of preprocessing I am going to scale the train and test features with a robust scaler\n",
    "\n",
    "I have chosen robust scaling as I belevie minmax scaling will not handle the outliers and the data is not normally distributed so not well suited to a standard scaler."
   ]
  },
  {
   "cell_type": "code",
   "execution_count": 11,
   "id": "8767d3cb",
   "metadata": {
    "execution": {
     "iopub.execute_input": "2022-12-01T19:45:37.815398Z",
     "iopub.status.busy": "2022-12-01T19:45:37.814905Z",
     "iopub.status.idle": "2022-12-01T19:45:37.831549Z",
     "shell.execute_reply": "2022-12-01T19:45:37.830029Z"
    },
    "papermill": {
     "duration": 0.030674,
     "end_time": "2022-12-01T19:45:37.834688",
     "exception": false,
     "start_time": "2022-12-01T19:45:37.804014",
     "status": "completed"
    },
    "tags": []
   },
   "outputs": [],
   "source": [
    "X_sc = RobustScaler()\n",
    "X_train = X_sc.fit_transform(X_train)\n",
    "X_test= X_sc.transform(X_test)"
   ]
  },
  {
   "cell_type": "markdown",
   "id": "5c504de2",
   "metadata": {
    "papermill": {
     "duration": 0.008998,
     "end_time": "2022-12-01T19:45:37.853217",
     "exception": false,
     "start_time": "2022-12-01T19:45:37.844219",
     "status": "completed"
    },
    "tags": []
   },
   "source": [
    "# ****MODEL TRAINING****"
   ]
  },
  {
   "cell_type": "markdown",
   "id": "81a26365",
   "metadata": {
    "papermill": {
     "duration": 0.009241,
     "end_time": "2022-12-01T19:45:37.872001",
     "exception": false,
     "start_time": "2022-12-01T19:45:37.862760",
     "status": "completed"
    },
    "tags": []
   },
   "source": [
    "Finally, let's train some models and see which one works best with it's \"out of the box\" default hyperparameters\n",
    "\n",
    "I'll be carrying out exhaustive feature selection on each model individually using 5 fold cross validation on the whole training dataset. Assessing performance using the best mean CV accuracy score for each of the following models:\n",
    "1. Decision Tree\n",
    "2. Random Forest\n",
    "3. K Nearest Neighbors\n",
    "4. Logistic Regression\n",
    "5. Gradient Boosting classifier\n",
    "6. Light Gradient Boosting classifier\n",
    "7. EXtreme Gradient Boosting classifier"
   ]
  },
  {
   "cell_type": "code",
   "execution_count": 12,
   "id": "9ee573c7",
   "metadata": {
    "execution": {
     "iopub.execute_input": "2022-12-01T19:45:37.893761Z",
     "iopub.status.busy": "2022-12-01T19:45:37.892599Z",
     "iopub.status.idle": "2022-12-01T19:45:53.848173Z",
     "shell.execute_reply": "2022-12-01T19:45:53.846481Z"
    },
    "papermill": {
     "duration": 16.144538,
     "end_time": "2022-12-01T19:45:54.026212",
     "exception": false,
     "start_time": "2022-12-01T19:45:37.881674",
     "status": "completed"
    },
    "tags": []
   },
   "outputs": [
    {
     "name": "stderr",
     "output_type": "stream",
     "text": [
      "Features: 1023/1023"
     ]
    },
    {
     "name": "stdout",
     "output_type": "stream",
     "text": [
      "Best accuracy score: 0.819\n",
      "Best subset (indices): (0, 4, 5, 8)\n"
     ]
    }
   ],
   "source": [
    "DT_model = DecisionTreeClassifier()\n",
    "EFS_DT_model = ExhaustiveFeatureSelector(DT_model, \n",
    "                           min_features=1,\n",
    "                           max_features=10,\n",
    "                           scoring='accuracy',\n",
    "                           print_progress=True,\n",
    "                           cv=5)\n",
    "\n",
    "EFS_DT_model = EFS_DT_model.fit(X_train, y_train)\n",
    "\n",
    "print('Best accuracy score: %.3f' % EFS_DT_model.best_score_)\n",
    "print('Best subset (indices):', EFS_DT_model.best_idx_)"
   ]
  },
  {
   "cell_type": "code",
   "execution_count": 13,
   "id": "4d87f8a6",
   "metadata": {
    "execution": {
     "iopub.execute_input": "2022-12-01T19:45:54.173205Z",
     "iopub.status.busy": "2022-12-01T19:45:54.172671Z",
     "iopub.status.idle": "2022-12-01T20:02:03.209707Z",
     "shell.execute_reply": "2022-12-01T20:02:03.208230Z"
    },
    "papermill": {
     "duration": 969.447534,
     "end_time": "2022-12-01T20:02:03.546482",
     "exception": false,
     "start_time": "2022-12-01T19:45:54.098948",
     "status": "completed"
    },
    "tags": []
   },
   "outputs": [
    {
     "name": "stderr",
     "output_type": "stream",
     "text": [
      "Features: 1023/1023"
     ]
    },
    {
     "name": "stdout",
     "output_type": "stream",
     "text": [
      "Best accuracy score: 0.819\n",
      "Best subset (indices): (0, 1, 2, 3, 4, 5, 6, 8)\n"
     ]
    }
   ],
   "source": [
    "RF_model = RandomForestClassifier()\n",
    "EFS_RF_model = ExhaustiveFeatureSelector(RF_model, \n",
    "                           min_features=1,\n",
    "                           max_features=10,\n",
    "                           scoring='accuracy',\n",
    "                           print_progress=True,\n",
    "                           cv=5)\n",
    "\n",
    "EFS_RF_model = EFS_RF_model.fit(X_train, y_train)\n",
    "\n",
    "print('Best accuracy score: %.3f' % EFS_RF_model.best_score_)\n",
    "print('Best subset (indices):', EFS_RF_model.best_idx_)"
   ]
  },
  {
   "cell_type": "code",
   "execution_count": 14,
   "id": "cdc5e4c5",
   "metadata": {
    "execution": {
     "iopub.execute_input": "2022-12-01T20:02:03.829172Z",
     "iopub.status.busy": "2022-12-01T20:02:03.828617Z",
     "iopub.status.idle": "2022-12-01T20:02:45.835426Z",
     "shell.execute_reply": "2022-12-01T20:02:45.832868Z"
    },
    "papermill": {
     "duration": 42.496945,
     "end_time": "2022-12-01T20:02:46.180848",
     "exception": false,
     "start_time": "2022-12-01T20:02:03.683903",
     "status": "completed"
    },
    "tags": []
   },
   "outputs": [
    {
     "name": "stderr",
     "output_type": "stream",
     "text": [
      "Features: 1023/1023"
     ]
    },
    {
     "name": "stdout",
     "output_type": "stream",
     "text": [
      "Best accuracy score: 0.818\n",
      "Best subset (indices): (0, 1, 4, 5, 6, 9)\n"
     ]
    }
   ],
   "source": [
    "KNN_model = KNeighborsClassifier()\n",
    "EFS_KNN_model = ExhaustiveFeatureSelector(KNN_model, \n",
    "                           min_features=1,\n",
    "                           max_features=10,\n",
    "                           scoring='accuracy',\n",
    "                           print_progress=True,\n",
    "                           cv=5)\n",
    "\n",
    "EFS_KNN_model = EFS_KNN_model.fit(X_train, y_train)\n",
    "\n",
    "print('Best accuracy score: %.3f' % EFS_KNN_model.best_score_)\n",
    "print('Best subset (indices):', EFS_KNN_model.best_idx_)"
   ]
  },
  {
   "cell_type": "code",
   "execution_count": 15,
   "id": "2613c58e",
   "metadata": {
    "execution": {
     "iopub.execute_input": "2022-12-01T20:02:46.563618Z",
     "iopub.status.busy": "2022-12-01T20:02:46.563130Z",
     "iopub.status.idle": "2022-12-01T20:03:17.731068Z",
     "shell.execute_reply": "2022-12-01T20:03:17.729539Z"
    },
    "papermill": {
     "duration": 31.831727,
     "end_time": "2022-12-01T20:03:18.204280",
     "exception": false,
     "start_time": "2022-12-01T20:02:46.372553",
     "status": "completed"
    },
    "tags": []
   },
   "outputs": [
    {
     "name": "stderr",
     "output_type": "stream",
     "text": [
      "Features: 1023/1023"
     ]
    },
    {
     "name": "stdout",
     "output_type": "stream",
     "text": [
      "Best accuracy score: 0.808\n",
      "Best subset (indices): (0, 1, 2, 5, 7)\n"
     ]
    }
   ],
   "source": [
    "LogReg_model = LogisticRegression()\n",
    "EFS_LogReg_model = ExhaustiveFeatureSelector(LogReg_model, \n",
    "                           min_features=1,\n",
    "                           max_features=10,\n",
    "                           scoring='accuracy',\n",
    "                           print_progress=True,\n",
    "                           cv=5)\n",
    "\n",
    "EFS_LogReg_model = EFS_LogReg_model.fit(X_train, y_train)\n",
    "\n",
    "print('Best accuracy score: %.3f' % EFS_LogReg_model.best_score_)\n",
    "print('Best subset (indices):', EFS_LogReg_model.best_idx_)"
   ]
  },
  {
   "cell_type": "code",
   "execution_count": 16,
   "id": "0f78d6fe",
   "metadata": {
    "execution": {
     "iopub.execute_input": "2022-12-01T20:03:18.703636Z",
     "iopub.status.busy": "2022-12-01T20:03:18.703152Z",
     "iopub.status.idle": "2022-12-01T20:10:53.629824Z",
     "shell.execute_reply": "2022-12-01T20:10:53.628559Z"
    },
    "papermill": {
     "duration": 455.413115,
     "end_time": "2022-12-01T20:10:53.866978",
     "exception": false,
     "start_time": "2022-12-01T20:03:18.453863",
     "status": "completed"
    },
    "tags": []
   },
   "outputs": [
    {
     "name": "stderr",
     "output_type": "stream",
     "text": [
      "Features: 1023/1023"
     ]
    },
    {
     "name": "stdout",
     "output_type": "stream",
     "text": [
      "Best accuracy score: 0.832\n",
      "Best subset (indices): (0, 1, 2, 3, 4, 5, 6, 8)\n"
     ]
    }
   ],
   "source": [
    "GB_model = GradientBoostingClassifier()\n",
    "EFS_GB_model = ExhaustiveFeatureSelector(GB_model, \n",
    "                           min_features=1,\n",
    "                           max_features=10,\n",
    "                           scoring='accuracy',\n",
    "                           print_progress=True,\n",
    "                           cv=5)\n",
    "\n",
    "EFS_GB_model = EFS_GB_model.fit(X_train, y_train)\n",
    "\n",
    "print('Best accuracy score: %.3f' % EFS_GB_model.best_score_)\n",
    "print('Best subset (indices):', EFS_GB_model.best_idx_)"
   ]
  },
  {
   "cell_type": "code",
   "execution_count": 17,
   "id": "88fa2645",
   "metadata": {
    "execution": {
     "iopub.execute_input": "2022-12-01T20:10:54.566820Z",
     "iopub.status.busy": "2022-12-01T20:10:54.566273Z",
     "iopub.status.idle": "2022-12-01T20:16:26.964387Z",
     "shell.execute_reply": "2022-12-01T20:16:26.963136Z"
    },
    "papermill": {
     "duration": 333.29498,
     "end_time": "2022-12-01T20:16:27.470271",
     "exception": false,
     "start_time": "2022-12-01T20:10:54.175291",
     "status": "completed"
    },
    "tags": []
   },
   "outputs": [
    {
     "name": "stderr",
     "output_type": "stream",
     "text": [
      "Features: 1023/1023"
     ]
    },
    {
     "name": "stdout",
     "output_type": "stream",
     "text": [
      "Best accuracy score: 0.829\n",
      "Best subset (indices): (0, 1, 2, 4, 5, 7, 8, 9)\n"
     ]
    }
   ],
   "source": [
    "LGB_model = LGBMClassifier()\n",
    "EFS_LGB_model = ExhaustiveFeatureSelector(LGB_model, \n",
    "                           min_features=1,\n",
    "                           max_features=10,\n",
    "                           scoring='accuracy',\n",
    "                           print_progress=True,\n",
    "                           cv=5)\n",
    "\n",
    "EFS_LGB_model = EFS_LGB_model.fit(X_train, y_train)\n",
    "\n",
    "print('Best accuracy score: %.3f' % EFS_LGB_model.best_score_)\n",
    "print('Best subset (indices):', EFS_LGB_model.best_idx_)"
   ]
  },
  {
   "cell_type": "code",
   "execution_count": 18,
   "id": "0e200131",
   "metadata": {
    "execution": {
     "iopub.execute_input": "2022-12-01T20:16:28.215200Z",
     "iopub.status.busy": "2022-12-01T20:16:28.214694Z",
     "iopub.status.idle": "2022-12-01T20:52:37.562446Z",
     "shell.execute_reply": "2022-12-01T20:52:37.561041Z"
    },
    "papermill": {
     "duration": 2170.406017,
     "end_time": "2022-12-01T20:52:38.249310",
     "exception": false,
     "start_time": "2022-12-01T20:16:27.843293",
     "status": "completed"
    },
    "tags": []
   },
   "outputs": [
    {
     "name": "stderr",
     "output_type": "stream",
     "text": [
      "Features: 1023/1023"
     ]
    },
    {
     "name": "stdout",
     "output_type": "stream",
     "text": [
      "Best accuracy score: 0.829\n",
      "Best subset (indices): (0, 1, 2, 3, 5)\n"
     ]
    }
   ],
   "source": [
    "XGB_model = XGBClassifier()\n",
    "EFS_XGB_model = ExhaustiveFeatureSelector(XGB_model, \n",
    "                           min_features=1,\n",
    "                           max_features=10,\n",
    "                           scoring='accuracy',\n",
    "                           print_progress=True,\n",
    "                           cv=5)\n",
    "\n",
    "EFS_XGB_model = EFS_XGB_model.fit(X_train, y_train)\n",
    "\n",
    "print('Best accuracy score: %.3f' % EFS_XGB_model.best_score_)\n",
    "print('Best subset (indices):', EFS_XGB_model.best_idx_)"
   ]
  },
  {
   "cell_type": "markdown",
   "id": "7093599a",
   "metadata": {
    "papermill": {
     "duration": 0.436841,
     "end_time": "2022-12-01T20:52:39.133951",
     "exception": false,
     "start_time": "2022-12-01T20:52:38.697110",
     "status": "completed"
    },
    "tags": []
   },
   "source": [
    "# ****MODEL TUNING****"
   ]
  },
  {
   "cell_type": "markdown",
   "id": "17f34d79",
   "metadata": {
    "papermill": {
     "duration": 0.430033,
     "end_time": "2022-12-01T20:52:40.090457",
     "exception": false,
     "start_time": "2022-12-01T20:52:39.660424",
     "status": "completed"
    },
    "tags": []
   },
   "source": [
    "The gradient boosting classifier won!\n",
    "\n",
    "Now I want to tune this model using its optimal selected features to see if I can improve it's accuracy.\n",
    "\n",
    "I will use exhaustive gridsearch on the following 3 hyperparameters:\n",
    "1. Loss function used\n",
    "2. Number of estimators\n",
    "3. Maximum depth\n",
    "\n",
    "Each permutation of these hyperparameters will be assessed using 5 fold cross validation as before for consistency\n"
   ]
  },
  {
   "cell_type": "code",
   "execution_count": 19,
   "id": "34788285",
   "metadata": {
    "execution": {
     "iopub.execute_input": "2022-12-01T20:52:40.952174Z",
     "iopub.status.busy": "2022-12-01T20:52:40.951335Z",
     "iopub.status.idle": "2022-12-01T20:52:40.957308Z",
     "shell.execute_reply": "2022-12-01T20:52:40.956133Z"
    },
    "papermill": {
     "duration": 0.440572,
     "end_time": "2022-12-01T20:52:40.959664",
     "exception": false,
     "start_time": "2022-12-01T20:52:40.519092",
     "status": "completed"
    },
    "tags": []
   },
   "outputs": [],
   "source": [
    "X_train_select = EFS_GB_model.transform(X_train)\n",
    "X_test_select = EFS_GB_model.transform(X_test)"
   ]
  },
  {
   "cell_type": "code",
   "execution_count": 20,
   "id": "3d6e1699",
   "metadata": {
    "execution": {
     "iopub.execute_input": "2022-12-01T20:52:41.896444Z",
     "iopub.status.busy": "2022-12-01T20:52:41.895950Z",
     "iopub.status.idle": "2022-12-01T21:01:53.509684Z",
     "shell.execute_reply": "2022-12-01T21:01:53.508162Z"
    },
    "papermill": {
     "duration": 552.447614,
     "end_time": "2022-12-01T21:01:53.914760",
     "exception": false,
     "start_time": "2022-12-01T20:52:41.467146",
     "status": "completed"
    },
    "tags": []
   },
   "outputs": [
    {
     "name": "stdout",
     "output_type": "stream",
     "text": [
      "Fitting 5 folds for each of 3129 candidates, totalling 15645 fits\n"
     ]
    },
    {
     "name": "stderr",
     "output_type": "stream",
     "text": [
      "/opt/conda/lib/python3.7/site-packages/sklearn/model_selection/_validation.py:372: FitFailedWarning: \n",
      "5215 fits failed out of a total of 15645.\n",
      "The score on these train-test partitions for these parameters will be set to nan.\n",
      "If these failures are not expected, you can try to debug them by setting error_score='raise'.\n",
      "\n",
      "Below are more details about the failures:\n",
      "--------------------------------------------------------------------------------\n",
      "5215 fits failed with the following error:\n",
      "Traceback (most recent call last):\n",
      "  File \"/opt/conda/lib/python3.7/site-packages/sklearn/model_selection/_validation.py\", line 680, in _fit_and_score\n",
      "    estimator.fit(X_train, y_train, **fit_params)\n",
      "  File \"/opt/conda/lib/python3.7/site-packages/sklearn/ensemble/_gb.py\", line 525, in fit\n",
      "    self._check_params()\n",
      "  File \"/opt/conda/lib/python3.7/site-packages/sklearn/ensemble/_gb.py\", line 282, in _check_params\n",
      "    raise ValueError(\"Loss '{0:s}' not supported. \".format(self.loss))\n",
      "ValueError: Loss 'log_loss' not supported. \n",
      "\n",
      "  warnings.warn(some_fits_failed_message, FitFailedWarning)\n",
      "/opt/conda/lib/python3.7/site-packages/sklearn/model_selection/_search.py:972: UserWarning: One or more of the test scores are non-finite: [       nan        nan        nan ... 0.81329905 0.80767473 0.80880467]\n",
      "  category=UserWarning,\n"
     ]
    },
    {
     "name": "stdout",
     "output_type": "stream",
     "text": [
      "\n",
      " Best parameters are: {'loss': 'exponential', 'max_depth': 6, 'n_estimators': 61}\n",
      "\n",
      " Best score is: 0.840297086269282\n"
     ]
    }
   ],
   "source": [
    "param_grid={'loss' : [\"log_loss\", \"deviance\", \"exponential\"], \n",
    "                         'n_estimators' : range(1, 150), \n",
    "                         'max_depth' : range(1, 8)}\n",
    "                        \n",
    "grid = GridSearchCV(estimator=GB_model, param_grid = param_grid, \n",
    "                    refit = \"true\", verbose =1, n_jobs=-1)\n",
    "grid.fit(X_train_select, y_train)\n",
    "print(\"\\n Best parameters are: \" +str(grid.best_params_))\n",
    "print(\"\\n Best score is: \" +str(grid.best_score_))"
   ]
  },
  {
   "cell_type": "code",
   "execution_count": 21,
   "id": "8388b244",
   "metadata": {
    "execution": {
     "iopub.execute_input": "2022-12-01T21:01:54.782917Z",
     "iopub.status.busy": "2022-12-01T21:01:54.782388Z",
     "iopub.status.idle": "2022-12-01T21:01:55.595175Z",
     "shell.execute_reply": "2022-12-01T21:01:55.593553Z"
    },
    "papermill": {
     "duration": 1.248826,
     "end_time": "2022-12-01T21:01:55.598037",
     "exception": false,
     "start_time": "2022-12-01T21:01:54.349211",
     "status": "completed"
    },
    "tags": []
   },
   "outputs": [
    {
     "name": "stdout",
     "output_type": "stream",
     "text": [
      "[0.81460674 0.83146067 0.87078652 0.81460674 0.85875706]\n",
      "0.8380435472608392\n",
      "0.022991536254466146\n"
     ]
    }
   ],
   "source": [
    "GB_scores = cross_val_score(grid.best_estimator_, X_train_select, y_train, cv=5)\n",
    "print(GB_scores)\n",
    "print(GB_scores.mean())\n",
    "print(GB_scores.std())"
   ]
  },
  {
   "cell_type": "markdown",
   "id": "28475f6c",
   "metadata": {
    "papermill": {
     "duration": 0.431635,
     "end_time": "2022-12-01T21:01:56.541488",
     "exception": false,
     "start_time": "2022-12-01T21:01:56.109853",
     "status": "completed"
    },
    "tags": []
   },
   "source": [
    "# ****PREDICTIONS AND OUTPUT****"
   ]
  },
  {
   "cell_type": "markdown",
   "id": "8dc71508",
   "metadata": {
    "papermill": {
     "duration": 0.520558,
     "end_time": "2022-12-01T21:01:57.489991",
     "exception": false,
     "start_time": "2022-12-01T21:01:56.969433",
     "status": "completed"
    },
    "tags": []
   },
   "source": [
    "I'm pleased to see an improvement from a mean accuracy score of 0.8245 to 0.8414 and a reduction in the standard deviation from 0.0215 to 0.0200\n",
    "\n",
    "Let's use this tuned model to make our predictions......."
   ]
  },
  {
   "cell_type": "code",
   "execution_count": 22,
   "id": "f2f22675",
   "metadata": {
    "execution": {
     "iopub.execute_input": "2022-12-01T21:01:58.358830Z",
     "iopub.status.busy": "2022-12-01T21:01:58.358363Z",
     "iopub.status.idle": "2022-12-01T21:01:58.365681Z",
     "shell.execute_reply": "2022-12-01T21:01:58.364814Z"
    },
    "papermill": {
     "duration": 0.441086,
     "end_time": "2022-12-01T21:01:58.367810",
     "exception": false,
     "start_time": "2022-12-01T21:01:57.926724",
     "status": "completed"
    },
    "tags": []
   },
   "outputs": [],
   "source": [
    "predictions = grid.predict(X_test_select)"
   ]
  },
  {
   "cell_type": "code",
   "execution_count": 23,
   "id": "d055c4ad",
   "metadata": {
    "execution": {
     "iopub.execute_input": "2022-12-01T21:01:59.342956Z",
     "iopub.status.busy": "2022-12-01T21:01:59.341576Z",
     "iopub.status.idle": "2022-12-01T21:01:59.356626Z",
     "shell.execute_reply": "2022-12-01T21:01:59.355718Z"
    },
    "papermill": {
     "duration": 0.564534,
     "end_time": "2022-12-01T21:01:59.360612",
     "exception": false,
     "start_time": "2022-12-01T21:01:58.796078",
     "status": "completed"
    },
    "tags": []
   },
   "outputs": [
    {
     "name": "stdout",
     "output_type": "stream",
     "text": [
      "Your submission was successfully saved!\n"
     ]
    }
   ],
   "source": [
    "output = pd.DataFrame({'PassengerId': test_data.PassengerId, 'Survived': predictions})\n",
    "output.to_csv('submission.csv', index=False)\n",
    "print(\"Your submission was successfully saved!\")"
   ]
  }
 ],
 "metadata": {
  "kernelspec": {
   "display_name": "Python 3",
   "language": "python",
   "name": "python3"
  },
  "language_info": {
   "codemirror_mode": {
    "name": "ipython",
    "version": 3
   },
   "file_extension": ".py",
   "mimetype": "text/x-python",
   "name": "python",
   "nbconvert_exporter": "python",
   "pygments_lexer": "ipython3",
   "version": "3.7.12"
  },
  "papermill": {
   "default_parameters": {},
   "duration": 4598.392575,
   "end_time": "2022-12-01T21:02:02.452438",
   "environment_variables": {},
   "exception": null,
   "input_path": "__notebook__.ipynb",
   "output_path": "__notebook__.ipynb",
   "parameters": {},
   "start_time": "2022-12-01T19:45:24.059863",
   "version": "2.3.4"
  }
 },
 "nbformat": 4,
 "nbformat_minor": 5
}
